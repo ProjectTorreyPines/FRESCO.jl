{
 "cells": [
  {
   "cell_type": "code",
   "execution_count": null,
   "id": "c382828c-b065-441a-982a-3cb363b40aff",
   "metadata": {
    "scrolled": true
   },
   "outputs": [],
   "source": [
    "import Pkg; Pkg.activate(\".\")\n",
    "using FRESCO\n",
    "import FUSE, QED, IMAS, VacuumFields\n",
    "using Plots, ProgressMeter"
   ]
  },
  {
   "cell_type": "code",
   "execution_count": null,
   "id": "884e13b9-c3d5-44b2-a43f-5e470c95baa2",
   "metadata": {
    "scrolled": true
   },
   "outputs": [],
   "source": [
    "recycle = false\n",
    "if recycle\n",
    "    dd = IMAS.json2imas(\"./dd_iter.json\")\n",
    "else\n",
    "    dd, ini, act = FUSE.init(:ITER, init_from=:ods);\n",
    "    FUSE.ActorEquilibrium(dd, act; ip_from=:pulse_schedule);\n",
    "    IMAS.imas2json(dd, \"./dd_iter.json\");\n",
    "end;"
   ]
  },
  {
   "cell_type": "code",
   "execution_count": null,
   "id": "2706f945-d85e-4903-aa9c-2eccf34df63a",
   "metadata": {},
   "outputs": [],
   "source": [
    "canvas0 = FRESCO.Canvas(dd, 65)\n",
    "profile0 = FRESCO.PprimeFFprime(dd);"
   ]
  },
  {
   "cell_type": "code",
   "execution_count": null,
   "id": "112bb282-371c-4a43-a0c6-20d0346bdcae",
   "metadata": {},
   "outputs": [],
   "source": [
    "# Solve equilibrium with shape control to get self-consistent coil currents\n",
    "canvas, profile = deepcopy(canvas0), deepcopy(profile0)\n",
    "control = :shape\n",
    "# Keep currents fixed in ITER OH coils (1:6), VS coils(13:14), and vacuum vessel(15:162)\n",
    "fixed_coils = vcat(1:6, 13:14, 15:162) \n",
    "@time FRESCO.solve!(canvas, profile, 100, 3; control, relax=0.5, tolerance=1e-12, debug=true, initialize_current=true, fixed_coils);\n",
    "plot(canvas, size=(500,300))"
   ]
  },
  {
   "cell_type": "code",
   "execution_count": null,
   "id": "f829aac4-c057-48df-ae6b-56fc6a33fa1f",
   "metadata": {},
   "outputs": [],
   "source": [
    "# Perturb the VS3U coil current by 1 kA (starts at 0)\n",
    "canvas1, profile1 = deepcopy(canvas), deepcopy(profile)\n",
    "dI_13 = 1e3\n",
    "VacuumFields.set_current!(canvas1.coils[13], dI_13)\n",
    "@time FRESCO.solve!(canvas1, profile1, 100, 3; relax=0.5, tolerance=1e-6, debug=true, control=:eddy, initialize_current=false, initialize_mutuals=true);"
   ]
  },
  {
   "cell_type": "code",
   "execution_count": null,
   "id": "dd62537a-0d61-4df8-8324-65738ce84ae6",
   "metadata": {},
   "outputs": [],
   "source": [
    "println(\"Shift = $(round(canvas1.Zaxis - canvas.Zaxis, digits=5)) m\")\n",
    "p1 = plot(canvas, xrange=(1,13), yrange=(-8.5,8.5), title=\"Initial\", clims=(-160,160))\n",
    "p2 = plot(canvas1, xrange=(1,13), yrange=(-8.5,8.5), title=\"Shifted with Eddys\", clims=(-160,160), ylabel=\"\")\n",
    "plot(p1,p2, size=(800,450),left_margin=4Plots.mm)"
   ]
  },
  {
   "cell_type": "code",
   "execution_count": null,
   "id": "b521ffae-1655-4f38-b690-e778a2e646e1",
   "metadata": {},
   "outputs": [],
   "source": [
    "# This creates a QED Build struct based on a FRESCO canvas.coils\n",
    "# The voltage waveforms are set to be constant values that match V=IR\n",
    "function Build(canvas)\n",
    "    coils = canvas.coils\n",
    "    Mcc = [VacuumFields.mutual(c1, c2) for c1 in coils, c2 in coils]\n",
    "    Ic = [VacuumFields.current(c) / VacuumFields.turns(c) for c in coils] #current per turn\n",
    "    Rc = [VacuumFields.resistance(c) for c in coils];\n",
    "    Vc = Ic .* Rc\n",
    "    V_waveforms = [QED.Waveform{Float64}(t -> Vc[k]) for k in eachindex(Vc)]\n",
    "    return QED.QED_build(Ic, Vc, Rc, Mcc, V_waveforms)\n",
    "end"
   ]
  },
  {
   "cell_type": "code",
   "execution_count": null,
   "id": "8c355b42-b436-4657-a204-1a750bce4f0f",
   "metadata": {},
   "outputs": [],
   "source": [
    "canvas_save = deepcopy(canvas);"
   ]
  },
  {
   "cell_type": "code",
   "execution_count": null,
   "id": "b25c9952-b6e4-4bcf-9cc3-83fa3db97e40",
   "metadata": {
    "scrolled": true
   },
   "outputs": [],
   "source": [
    "Δt = 1e-3\n",
    "Nt = 800\n",
    "canvas = deepcopy(canvas_save)\n",
    "VacuumFields.set_current!(canvas.coils[13], dI_13)\n",
    "build = Build(canvas);\n",
    "#canvas, profile, build = deepcopy(canvas2), deepcopy(profile2), deepcopy(build2)\n",
    "#FRESCO.solve!(canvas, profile, 100, 3; relax=0.5, tolerance=1e-6, debug=true, control=:shape);\n",
    "\n",
    "ps = Plots.Plot{Plots.GRBackend}[]\n",
    "Zs = zeros(Nt+1)\n",
    "Zs[1] = canvas.Zaxis\n",
    "Is = zeros(length(canvas.coils), Nt*1000 + 1)\n",
    "@showprogress for k in 1:Nt\n",
    "    #print(\"$k \")\n",
    "    for (k, coil) in enumerate(canvas.coils)\n",
    "        VacuumFields.set_current!(coil, build.Ic[k] * VacuumFields.turns(coil))\n",
    "    end\n",
    "    k>1 && FRESCO.set_flux_at_coils!(canvas)\n",
    "    try\n",
    "        FRESCO.solve!(canvas, profile, 100, 3; relax=0.5, tolerance=1e-4, debug=false, control=:eddy, initialize_current=false, initialize_mutuals=(k==1));\n",
    "    catch e\n",
    "        if typeof(e) <: MethodError\n",
    "            # The plasma no longer exists\n",
    "            Zs[k+1:end] .= canvas.Zaxis\n",
    "            Is[:, ((k-1)* 1000):end] .= Is[:, ((k-1)* 1000) - 1]\n",
    "            break\n",
    "        else\n",
    "            rethrow(e)\n",
    "        end\n",
    "    end\n",
    "    \n",
    "    for (k, coil) in enumerate(canvas.coils)\n",
    "        build.Ic[k] = VacuumFields.current(coil) / VacuumFields.turns(coil)\n",
    "    end\n",
    "\n",
    "    #R0, Z0, Ip, Vz, Ic = compute_inputs()\n",
    "    #build.Vs = Voltages_from_Luke(R0, Z0, Ip, Vz, Ic)\n",
    "    Zs[k+1] = canvas.Zaxis\n",
    "    \n",
    "    # UPDATE TO EVOLVE COUPLED SYSTEM\n",
    "    Is[:, (k-1)* 1000 .+ (1:1001)] .= QED.evolve!(build, Δt, 1000)\n",
    "    #@show build.Ic\n",
    "    \n",
    "    push!(ps, plot(canvas, xrange=(0.75,2.75), yrange=(-2,2), colorbar=false))\n",
    "    #mod(k, 10) == 0 && \n",
    "    #display(plot(canvas, title = \"t = $(k * Δt) s\"))\n",
    "end\n",
    "println()\n"
   ]
  },
  {
   "cell_type": "code",
   "execution_count": null,
   "id": "bb6a93ee-097d-4b40-b326-b95bcfee437d",
   "metadata": {},
   "outputs": [],
   "source": [
    "for (k,p) in enumerate(ps)\n",
    "    plot!(p, title=\"t=$(round(1e3k*Δt)) ms\", xlabel=\"\", ylabel=\"\", link=:both, xrange=(1,13),yrange=(-8,8))\n",
    "end\n",
    "plot(ps[vcat(10:100:end)]..., layout=(2,4), size=(1200,800))\n",
    "#plot(ps[1:11]..., size=(1200,800))"
   ]
  },
  {
   "cell_type": "code",
   "execution_count": null,
   "id": "de7564b1-44a0-42a5-9227-8ff463fbe9be",
   "metadata": {},
   "outputs": [],
   "source": [
    "pz = plot(range(0.0, Nt * Δt * 1000., Nt+1), Zs, xlabel=\"t (ms)\", ylabel=\"ΔZ (m)\", lw=2, legend=nothing)"
   ]
  }
 ],
 "metadata": {
  "kernelspec": {
   "display_name": "Julia (10 threads) 1.11.3",
   "language": "julia",
   "name": "julia-_10-threads_-1.11"
  },
  "language_info": {
   "file_extension": ".jl",
   "mimetype": "application/julia",
   "name": "julia",
   "version": "1.11.3"
  }
 },
 "nbformat": 4,
 "nbformat_minor": 5
}
