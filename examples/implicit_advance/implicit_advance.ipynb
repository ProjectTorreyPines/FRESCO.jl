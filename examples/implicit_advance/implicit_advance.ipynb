{
 "cells": [
  {
   "cell_type": "code",
   "execution_count": null,
   "id": "491ce7e8-1c28-4970-a368-44be145ef480",
   "metadata": {},
   "outputs": [],
   "source": [
    "import Pkg\n",
    "Pkg.activate()\n",
    "using FUSE, IMAS, QED, FRESCO, VacuumFields\n",
    "using LinearAlgebra\n",
    "using Interact, Plots"
   ]
  },
  {
   "cell_type": "code",
   "execution_count": null,
   "id": "5bd14a31-edfa-45f3-ad10-9aa5338133a1",
   "metadata": {},
   "outputs": [],
   "source": [
    "recycle = true\n",
    "if recycle\n",
    "    dd = IMAS.json2imas(\"./dd_d3d.json\")\n",
    "else\n",
    "    dd, ini, act = FUSE.init(:D3D);\n",
    "    act.ActorEquilibrium.model = :FRESCO\n",
    "    FUSE.ActorStationaryPlasma(dd, act);\n",
    "    IMAS.imas2json(dd, \"./dd_d3d.json\");\n",
    "end;"
   ]
  },
  {
   "cell_type": "code",
   "execution_count": null,
   "id": "f89277a5-2251-4adf-ae3f-3404a7ac3338",
   "metadata": {},
   "outputs": [],
   "source": [
    "canvas0 = FRESCO.Canvas(dd, 65);\n",
    "profile0 = FRESCO.PressureJtoR(dd);\n",
    "eqt = dd.equilibrium.time_slice[];\n",
    "cp1d = dd.core_profiles.profiles_1d[];\n",
    "Q0 = FUSE.qed_init_from_imas(eqt, cp1d; uniform_rho = 101);\n",
    "η0 = FUSE.η_imas(cp1d);"
   ]
  },
  {
   "cell_type": "code",
   "execution_count": null,
   "id": "b6ac6333-f6e7-46f2-915a-0f11d2bbeb37",
   "metadata": {},
   "outputs": [],
   "source": [
    "canvas, profile = deepcopy(canvas0), deepcopy(profile0);\n",
    "control = :shape\n",
    "@time FRESCO.solve!(canvas, profile, 100, 3; control, relax=0.25, tolerance=1e-8, debug=true, initialize_current=true);"
   ]
  },
  {
   "cell_type": "code",
   "execution_count": null,
   "id": "9d96860c-fa27-46fc-a0b7-82c0938d7b1f",
   "metadata": {},
   "outputs": [],
   "source": [
    "canvas_save = deepcopy(canvas);\n",
    "profile_save = deepcopy(profile);\n",
    "dd_save = deepcopy(dd);\n",
    "Q_save = deepcopy(Q0);"
   ]
  },
  {
   "cell_type": "code",
   "execution_count": null,
   "id": "8a0adbc6-1ed6-4488-ba4f-7b3a0f8d376e",
   "metadata": {},
   "outputs": [],
   "source": [
    "plot(canvas, size=(400,600), plot_control_points=false, plot_target_boundary=true)"
   ]
  },
  {
   "cell_type": "code",
   "execution_count": null,
   "id": "bd9c48bf-5b95-4de0-b4fb-876332efe725",
   "metadata": {},
   "outputs": [],
   "source": [
    "# need eta as a function of psin\n",
    "# pressure, thus Te, thus eta held fix wrt psi in equilibrium\n",
    "cp1d = dd.core_profiles.profiles_1d[]\n",
    "psin = cp1d.grid.psi_norm\n",
    "η = QED.η_FE(psin, 1.0 ./ cp1d.conductivity_parallel; use_log=true);"
   ]
  },
  {
   "cell_type": "code",
   "execution_count": null,
   "id": "53a23934-8643-4385-ab24-ce04d0ee0dcf",
   "metadata": {},
   "outputs": [],
   "source": [
    "# GOOD - BENCHMARKED\n",
    "function Wp(canvas)\n",
    "    Rs, Zs, Ψ, Ψbnd, Jt, is_inside = canvas.Rs, canvas.Zs, canvas.Ψ, canvas.Ψbnd, canvas._Jt, canvas._is_inside\n",
    "    Wp = sum(is_inside[k] ? (Ψ[k] - Ψbnd) * Jt[k] : 0.0 for k in eachindex(Jt))\n",
    "    return -0.5 * Base.step(Rs) * Base.step(Zs) * Wp\n",
    "end"
   ]
  },
  {
   "cell_type": "code",
   "execution_count": null,
   "id": "b913b8c1-b918-430d-8413-9a7ebf1e1ff7",
   "metadata": {},
   "outputs": [],
   "source": [
    "FRESCO.sync_Ψ!(canvas; update_vacuum=true, update_Ψitp=true)\n",
    "\n",
    "Zm, Rm = IMAS.meshgrid(canvas.Zs, canvas.Rs)\n",
    "Br, Bz = IMAS.Br_Bz(canvas._Ψitp, Rm, Zm)\n",
    "\n",
    "# 2πR factor for volume\n",
    "W_from_B2 = 2π * sum(canvas._is_inside .* Rm .* (Br .^ 2 + Bz .^ 2)) * Base.step(canvas.Rs) * Base.step(canvas.Zs) / (8e-7 * π)\n",
    "@show Wp(canvas), W_from_B2\n",
    "\n",
    "# From the dd\n",
    "PolygonOps = IMAS.PolygonOps\n",
    "eqt = dd.equilibrium.time_slice[]\n",
    "eq1d = eqt.profiles_1d\n",
    "eq2d = eqt.profiles_2d[1]\n",
    "\n",
    "pr, pz = eqt.boundary.outline.r, eqt.boundary.outline.z\n",
    "bnd = collect(zip(pr, pz))\n",
    "incore(r, z, bnd) = PolygonOps.inpolygon((r, z), bnd)\n",
    "\n",
    "dr = eq2d.r[2,1] - eq2d.r[1,1]\n",
    "dz = eq2d.z[1,2] - eq2d.z[1,1]\n",
    "W1 = 2π * sum(incore.(eq2d.r, eq2d.z, Ref(bnd)) .* eq2d.r .*  (eq2d.b_field_r .^ 2 + eq2d.b_field_z .^ 2)) * dr * dz / (8e-7 * π)\n",
    "W2 = -0.5 * sum(incore.(eq2d.r, eq2d.z, Ref(bnd)) .* (eq2d.psi .- eq1d.psi[end]) .* eq2d.j_tor) * dr * dz\n",
    "@show W1, W2, Wp(canvas);\n"
   ]
  },
  {
   "cell_type": "code",
   "execution_count": null,
   "id": "58641273-5399-4704-a8a3-7f261f60f812",
   "metadata": {},
   "outputs": [],
   "source": [
    "function Li(canvas)\n",
    "    return 2.0 * Wp(canvas) / canvas.Ip ^2\n",
    "end\n",
    "Li(canvas, profile)"
   ]
  },
  {
   "cell_type": "code",
   "execution_count": null,
   "id": "42494d99-3391-4a0a-8276-31938ef5f1f8",
   "metadata": {},
   "outputs": [],
   "source": [
    "function Rp(canvas, eta)\n",
    "    Rs, Zs, Ψ, Ψaxis, Ψbnd = canvas.Rs, canvas.Zs, canvas.Ψ, canvas.Ψaxis, canvas.Ψbnd\n",
    "    Ip, Jt, is_inside =  canvas.Ip, canvas._Jt, canvas._is_inside\n",
    "    inv_ΔΨ = 1.0 / (Ψbnd - Ψaxis)\n",
    "    psin(psi) = (psi - Ψaxis) * inv_ΔΨ\n",
    "    Rp = sum(is_inside[k] ? eta(psin(Ψ[k])) * Jt[k] ^ 2 : 0.0 for k in eachindex(Jt))\n",
    "    return Rp / Ip ^ 2\n",
    "end\n",
    "Rp(canvas, η)"
   ]
  },
  {
   "cell_type": "code",
   "execution_count": null,
   "id": "1ede57b5-45c0-471f-8586-ced2303597d7",
   "metadata": {},
   "outputs": [],
   "source": [
    "canvas.Fbnd"
   ]
  },
  {
   "cell_type": "code",
   "execution_count": null,
   "id": "65d37698-815e-4a82-966a-bc0ae0dd39b4",
   "metadata": {},
   "outputs": [],
   "source": [
    "Ψaxis, Ψbnd, Fbnd, surfaces = canvas.Ψaxis, canvas.Ψbnd, canvas.Fbnd, canvas._surfaces\n",
    "psi1d = range(Ψaxis, Ψbnd, length(surfaces))\n",
    "F2 = 2 * IMAS.cumtrapz(psi1d, FRESCO.ffprime(canvas, profile))\n",
    "F2 .= F2 .- F2[end] .+ Fbnd^2\n",
    "F = sign(Fbnd) .* sqrt.(F2)"
   ]
  },
  {
   "cell_type": "code",
   "execution_count": null,
   "id": "fb5ea999-98ce-4a0e-86de-f15abf9a89f4",
   "metadata": {},
   "outputs": [],
   "source": []
  },
  {
   "cell_type": "code",
   "execution_count": null,
   "id": "5ec43ba8-bbf8-40ae-bed9-feabade7f309",
   "metadata": {},
   "outputs": [],
   "source": [
    "active_coils = VacuumFields.MultiCoils(dd)[1:end-2];\n",
    "passive_coils = VacuumFields.QuadCoil[]\n",
    "for loop in dd.pf_passive.loop\n",
    "    for element in loop.element\n",
    "        outline = element.geometry.outline\n",
    "        @assert length(outline.r) == 4 \"For the time being passive structures must be composed of quadrilateral elements\"\n",
    "        passive_coil = VacuumFields.QuadCoil(outline.r, outline.z)\n",
    "        passive_coil.resistance = VacuumFields.resistance(passive_coil, loop.resistivity)\n",
    "        push!(passive_coils, passive_coil)\n",
    "    end\n",
    "end\n",
    "coils = deepcopy(vcat(active_coils, passive_coils));"
   ]
  },
  {
   "cell_type": "code",
   "execution_count": null,
   "id": "b2f4ee20-4e75-4166-82fc-9fd8dc84ebfc",
   "metadata": {},
   "outputs": [],
   "source": [
    "# COIL ONLY PROPERTIES\n",
    "Mcc = [VacuumFields.mutual(c1, c2) for c1 in coils, c2 in coils]\n",
    "\n",
    "# coil current in this model is current per turn\n",
    "Ic = [VacuumFields.current(c) / VacuumFields.turns(c) for c in coils]\n",
    "Rc = [VacuumFields.resistance(c) for c in coils];\n",
    "Vc = zero(Ic);"
   ]
  },
  {
   "cell_type": "code",
   "execution_count": null,
   "id": "084c8e38-bd3a-413b-b696-723ef5ccf287",
   "metadata": {},
   "outputs": [],
   "source": [
    "# PLASMA INDUCTANCES\n",
    "\n",
    "eqt = dd.equilibrium.time_slice[]\n",
    "cp1d = dd.core_profiles.profiles_1d[]\n",
    "Ip = eqt.global_quantities.ip\n",
    "\n",
    "# COIL MUTUALS\n",
    "image = VacuumFields.Image(eqt)\n",
    "Mpc = [VacuumFields.mutual(image, coil, Ip) for coil in coils]\n",
    "dMpc_dt = zero(Mpc) # How Mpc changes in time (like shape)... to test later\n",
    "\n",
    "# INTERNAL INDUCTANCE\n",
    "It = IMAS.cumtrapz(cp1d.grid.area, cp1d.j_tor)\n",
    "Wp = 0.5 * IMAS.trapz(cp1d.grid.psi, It)\n",
    "Li = 2 * Wp / Ip^2\n",
    "\n",
    "# EXTERNAL INDUCTANCE \n",
    "ψb = eqt.profiles_1d.psi[end]\n",
    "ψc = sum(Mpc[k] * Ic[k] for k in eachindex(coils))\n",
    "Le = (ψb - ψc) / Ip\n",
    "Lp = Li + Le\n",
    "\n",
    "@show Li, Le, Lp"
   ]
  },
  {
   "cell_type": "code",
   "execution_count": null,
   "id": "07723db0-d536-4f63-b48f-aaa9ec4937df",
   "metadata": {},
   "outputs": [],
   "source": [
    "# COMPUTE RESISTANCE AS P_OHM / (IP * IOHM)\n",
    "Pohm = dd.core_sources.source[:ohmic].profiles_1d[].electrons.power_inside[end]\n",
    "Ini = dd.core_profiles.global_quantities.current_non_inductive[]\n",
    "Iohm = Ip - Ini\n",
    "Rp = Pohm / (Ip * Iohm)"
   ]
  },
  {
   "cell_type": "code",
   "execution_count": null,
   "id": "e87bf3b4-c738-4add-8318-fc0bfa226e76",
   "metadata": {},
   "outputs": [],
   "source": [
    "W0 = QED.Waveform{Float64}(t -> 0.0)\n",
    "W1 = QED.Waveform{Float64}(t -> -1e3) # VERY STRONG \n",
    "#Wramp = QED.Waveform{Float64}(t -> 1e3 * (t < t_ramp ? t/t_ramp : 1.0))\n",
    "V_waveforms = [k <= 6 ? W1 : W0 for k in eachindex(coils)];"
   ]
  },
  {
   "cell_type": "code",
   "execution_count": null,
   "id": "e2cad880-fe6d-40c6-bf8c-a8eb94ea0f82",
   "metadata": {},
   "outputs": [],
   "source": [
    "# non_inductive contribution\n",
    "B0 = eqt.global_quantities.vacuum_toroidal_field.b0\n",
    "JBni = QED.FE(cp1d.grid.rho_tor_norm, cp1d.j_non_inductive .* B0);"
   ]
  },
  {
   "cell_type": "code",
   "execution_count": null,
   "id": "2694084d-a2c2-4143-b77b-db3c4c8be4b4",
   "metadata": {},
   "outputs": [],
   "source": [
    "# Initialize\n",
    "QI = FUSE.qed_init_from_imas(eqt, cp1d; uniform_rho = 101)\n",
    "#QI.JBni = nothing;\n",
    "if QI.JBni === nothing\n",
    "    Vni = 0.0 \n",
    "else\n",
    "    Vni = Rp * Ini\n",
    "end\n",
    "build = QED.QED_build(Ic, Vc, Rc, Mcc, Vni, Rp, Lp, Mpc, dMpc_dt, V_waveforms);"
   ]
  },
  {
   "cell_type": "code",
   "execution_count": null,
   "id": "280b4f6a-48c3-415b-a011-6306aaa55fa0",
   "metadata": {},
   "outputs": [],
   "source": [
    "# Plasma only diffusion problem - standard QED\n",
    "\n",
    "t0 = dd.global_time\n",
    "t1 = t0 + 5.0\n",
    "δt = t1 - t0\n",
    "No = 1\n",
    "Ni = 1000\n",
    "Ip = nothing\n",
    "Vedge = 0.0\n",
    "time0 = t0 + δt / 2.0\n",
    "Qd = QED.diffuse(QI, FUSE.η_imas(dd.core_profiles.profiles_1d[time0]), δt, Ni; Vedge, Ip, debug=true);\n",
    "@show QED.Ip(QI), QED.Ip(Qd)"
   ]
  },
  {
   "cell_type": "code",
   "execution_count": null,
   "id": "cebb7187-9d68-430d-832a-0da24936009e",
   "metadata": {},
   "outputs": [],
   "source": [
    "# Full coupled evolution\n",
    "BO = deepcopy(build)\n",
    "Qe = QED.evolve(deepcopy(QI), FUSE.η_imas(dd.core_profiles.profiles_1d[time0]), BO, δt, Ni; debug=true);\n",
    "plot(Qd.ρ, QED.Jt_R(Qd), lw=3)\n",
    "display(plot!(Qe.ρ, QED.Jt_R(Qe), lw=3, ls=:dash))\n",
    "@show QED.Ip(QI), QED.Ip(Qd), QED.Ip(Qe)"
   ]
  },
  {
   "cell_type": "code",
   "execution_count": null,
   "id": "c01851e4-4026-4221-84c4-d4b08eea9ef1",
   "metadata": {},
   "outputs": [],
   "source": [
    "c = cgrad(:diverging)\n",
    "B = BO\n",
    "Jmax = maximum(abs.(B.Ic))\n",
    "p = plot(aspect_ratio=:equal)\n",
    "for (i,coil) in enumerate(coils)\n",
    "    current_color_index = (B.Ic[i] + Jmax) / (2 * Jmax)\n",
    "    plot!(p, coil,color=c[current_color_index], alpha=1.0)\n",
    "end\n",
    "display(p)"
   ]
  },
  {
   "cell_type": "code",
   "execution_count": null,
   "id": "31d096b8-3e04-47c9-8641-c4f6d6900997",
   "metadata": {},
   "outputs": [],
   "source": [
    "Lp"
   ]
  },
  {
   "cell_type": "code",
   "execution_count": null,
   "id": "ba8f518f-e62d-4089-8ed4-813d26ef64c8",
   "metadata": {},
   "outputs": [],
   "source": []
  },
  {
   "cell_type": "code",
   "execution_count": null,
   "id": "02dac3d2-aa56-4b6d-96a0-a4ecbd0f86a4",
   "metadata": {},
   "outputs": [],
   "source": [
    "dd.equilibrium.time"
   ]
  },
  {
   "cell_type": "code",
   "execution_count": null,
   "id": "5c8cb332-b236-436a-be4d-00cba1179862",
   "metadata": {},
   "outputs": [],
   "source": [
    "Rp"
   ]
  },
  {
   "cell_type": "code",
   "execution_count": null,
   "id": "a83d3b89-479b-48f8-be0f-f931f5fa4813",
   "metadata": {},
   "outputs": [],
   "source": [
    "Lp"
   ]
  },
  {
   "cell_type": "code",
   "execution_count": null,
   "id": "d5c13227-29d0-4f16-b4dd-11111266b754",
   "metadata": {},
   "outputs": [],
   "source": [
    "IMAS.imas2json(dd, \"/Users/lyons/Downloads/iter_ods.json\", freeze=true, strict=true);"
   ]
  },
  {
   "cell_type": "code",
   "execution_count": null,
   "id": "56a98c90-0290-48a0-bc8f-cd17ae2d25b6",
   "metadata": {},
   "outputs": [],
   "source": [
    "[VacuumFields.turns(c) for c in active_coils]"
   ]
  },
  {
   "cell_type": "code",
   "execution_count": null,
   "id": "6657dd6d-71f1-4a5c-8ef5-7170d145d616",
   "metadata": {},
   "outputs": [],
   "source": [
    "dd.pf_active.coil[1]"
   ]
  },
  {
   "cell_type": "code",
   "execution_count": null,
   "id": "da42b6e2-6d31-4746-b1a1-44025d624686",
   "metadata": {},
   "outputs": [],
   "source": [
    "Ic = [VacuumFields.current(c) for c in dd.pf_active.coil]\n",
    "@show Ic"
   ]
  },
  {
   "cell_type": "code",
   "execution_count": null,
   "id": "498aaead-6494-40c5-ae17-a93ac9ef06e9",
   "metadata": {},
   "outputs": [],
   "source": [
    "(-2.326557198014836e7 -1.8934747387408897e7) /2"
   ]
  },
  {
   "cell_type": "code",
   "execution_count": null,
   "id": "088889d8-53d5-4d7e-9f3e-1467a6b89001",
   "metadata": {},
   "outputs": [],
   "source": [
    "R = collect(range(3,9,65))\n",
    "Z = collect(range(-6,6,129))\n",
    "FUSE.ActorTEQUILA(dd, act; ip_from=:core_profiles, R, Z)"
   ]
  },
  {
   "cell_type": "code",
   "execution_count": null,
   "id": "8ffcb9e0-1fac-4c8f-97b1-1a736b5a9987",
   "metadata": {},
   "outputs": [],
   "source": [
    "eq2d = dd.equilibrium.time_slice[].profiles_2d[2]\n",
    "R = eq2d.dim1\n",
    "Z = eq2d.dim2\n",
    "Jt = eq2d.j_tor\n",
    "psi2d = "
   ]
  },
  {
   "cell_type": "code",
   "execution_count": null,
   "id": "b8e173dc-1541-4ea0-8a60-e61a15c06ca2",
   "metadata": {},
   "outputs": [],
   "source": [
    "IMAS.imas2json(dd, \"/Users/lyons/Downloads/iter_ods2.json\", freeze=true, strict=true);"
   ]
  }
 ],
 "metadata": {
  "kernelspec": {
   "display_name": "Julia 1.11.3",
   "language": "julia",
   "name": "julia-1.11"
  },
  "language_info": {
   "file_extension": ".jl",
   "mimetype": "application/julia",
   "name": "julia",
   "version": "1.11.3"
  }
 },
 "nbformat": 4,
 "nbformat_minor": 5
}
